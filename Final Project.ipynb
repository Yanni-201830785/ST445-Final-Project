{
 "cells": [
  {
   "cell_type": "code",
   "execution_count": 6,
   "id": "59328bd3",
   "metadata": {},
   "outputs": [],
   "source": [
    "import urllib.request\n",
    "import gzip\n",
    "import shutil\n",
    "import pandas as pd"
   ]
  },
  {
   "cell_type": "code",
   "execution_count": 8,
   "id": "dde2e389",
   "metadata": {},
   "outputs": [],
   "source": [
    "AirbnbURL = \"http://data.insideairbnb.com/united-states/ny/new-york-city/2021-11-02/data/listings.csv.gz\"\n",
    "urllib.request.urlretrieve(AirbnbURL, \"listing.csv.gz\")\n",
    "with gzip.open('listing.csv.gz', 'rb') as f_in:\n",
    "    with open('listing.csv', 'wb') as f_out:\n",
    "        shutil.copyfileobj(f_in, f_out)"
   ]
  },
  {
   "cell_type": "code",
   "execution_count": 12,
   "id": "0f2aa0b6",
   "metadata": {},
   "outputs": [
    {
     "name": "stdout",
     "output_type": "stream",
     "text": [
      "     id                        listing_url       scrape_id last_scraped  \\\n",
      "0  2595  https://www.airbnb.com/rooms/2595  20211102175544   2021-11-03   \n",
      "1  3831  https://www.airbnb.com/rooms/3831  20211102175544   2021-11-03   \n",
      "2  5121  https://www.airbnb.com/rooms/5121  20211102175544   2021-11-03   \n",
      "3  5136  https://www.airbnb.com/rooms/5136  20211102175544   2021-11-03   \n",
      "\n",
      "                                                name  \\\n",
      "0                              Skylit Midtown Castle   \n",
      "1  Whole flr w/private bdrm, bath & kitchen(pls r...   \n",
      "2                                    BlissArtsSpace!   \n",
      "3           Spacious Brooklyn Duplex, Patio + Garden   \n",
      "\n",
      "                                         description  \\\n",
      "0  Beautiful, spacious skylit studio in the heart...   \n",
      "1  Enjoy 500 s.f. top floor in 1899 brownstone, w...   \n",
      "2  <b>The space</b><br />HELLO EVERYONE AND THANK...   \n",
      "3  We welcome you to stay in our lovely 2 br dupl...   \n",
      "\n",
      "                               neighborhood_overview  \\\n",
      "0  Centrally located in the heart of Manhattan ju...   \n",
      "1  Just the right mix of urban center and local n...   \n",
      "2                                                NaN   \n",
      "3                                                NaN   \n",
      "\n",
      "                                         picture_url  host_id  \\\n",
      "0  https://a0.muscache.com/pictures/f0813a11-40b2...     2845   \n",
      "1  https://a0.muscache.com/pictures/e49999c2-9fd5...     4869   \n",
      "2  https://a0.muscache.com/pictures/2090980c-b68e...     7356   \n",
      "3  https://a0.muscache.com/pictures/miso/Hosting-...     7378   \n",
      "\n",
      "                                 host_url  ... review_scores_communication  \\\n",
      "0  https://www.airbnb.com/users/show/2845  ...                        4.79   \n",
      "1  https://www.airbnb.com/users/show/4869  ...                        4.81   \n",
      "2  https://www.airbnb.com/users/show/7356  ...                        4.91   \n",
      "3  https://www.airbnb.com/users/show/7378  ...                        5.00   \n",
      "\n",
      "  review_scores_location review_scores_value license instant_bookable  \\\n",
      "0                   4.86                4.41     NaN                f   \n",
      "1                   4.72                4.65     NaN                f   \n",
      "2                   4.47                4.52     NaN                f   \n",
      "3                   4.50                5.00     NaN                f   \n",
      "\n",
      "  calculated_host_listings_count calculated_host_listings_count_entire_homes  \\\n",
      "0                              3                                           3   \n",
      "1                              1                                           1   \n",
      "2                              2                                           0   \n",
      "3                              1                                           1   \n",
      "\n",
      "  calculated_host_listings_count_private_rooms  \\\n",
      "0                                            0   \n",
      "1                                            0   \n",
      "2                                            2   \n",
      "3                                            0   \n",
      "\n",
      "  calculated_host_listings_count_shared_rooms reviews_per_month  \n",
      "0                                           0              0.33  \n",
      "1                                           0              4.91  \n",
      "2                                           0              0.53  \n",
      "3                                           0              0.02  \n",
      "\n",
      "[4 rows x 74 columns]\n"
     ]
    }
   ],
   "source": [
    "airbnb = pd.read_csv('listing.csv',low_memory=False)\n",
    "print(airbnb.head(4))"
   ]
  },
  {
   "cell_type": "code",
   "execution_count": null,
   "id": "921ec288",
   "metadata": {},
   "outputs": [],
   "source": []
  }
 ],
 "metadata": {
  "kernelspec": {
   "display_name": "Python 3",
   "language": "python",
   "name": "python3"
  },
  "language_info": {
   "codemirror_mode": {
    "name": "ipython",
    "version": 3
   },
   "file_extension": ".py",
   "mimetype": "text/x-python",
   "name": "python",
   "nbconvert_exporter": "python",
   "pygments_lexer": "ipython3",
   "version": "3.8.8"
  }
 },
 "nbformat": 4,
 "nbformat_minor": 5
}
