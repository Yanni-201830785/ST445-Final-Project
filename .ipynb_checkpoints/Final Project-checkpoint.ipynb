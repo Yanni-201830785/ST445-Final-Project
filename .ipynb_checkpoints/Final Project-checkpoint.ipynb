{
 "cells": [
  {
   "cell_type": "code",
   "execution_count": 1,
   "id": "732755cf",
   "metadata": {},
   "outputs": [],
   "source": [
    "import urllib.request\n",
    "import gzip\n",
    "import shutil\n",
    "import pandas as pd\n",
    "import requests\n",
    "import zipfile\n",
    "import tempfile\n",
    "import geopandas as gpd\n",
    "from geopandas import GeoDataFrame\n",
    "from shapely.geometry import Point\n",
    "\n",
    "import matplotlib.pyplot as plt\n",
    "%matplotlib inline\n",
    "\n",
    "import seaborn as sns\n",
    "sns.reset_orig()"
   ]
  },
  {
   "cell_type": "code",
   "execution_count": 2,
   "id": "dde2e389",
   "metadata": {},
   "outputs": [],
   "source": [
    "AirbnbURL = \"http://data.insideairbnb.com/united-states/ny/new-york-city/2021-11-02/data/listings.csv.gz\"\n",
    "urllib.request.urlretrieve(AirbnbURL, \"listing.csv.gz\")\n",
    "with gzip.open('listing.csv.gz', 'rb') as f_in:\n",
    "    with open('listing.csv', 'wb') as f_out:\n",
    "        shutil.copyfileobj(f_in, f_out)"
   ]
  },
  {
   "cell_type": "code",
   "execution_count": 3,
   "id": "0f2aa0b6",
   "metadata": {},
   "outputs": [],
   "source": [
    "airbnb = pd.read_csv('listing.csv',low_memory=False)"
   ]
  },
  {
   "cell_type": "code",
   "execution_count": 4,
   "id": "752bd194",
   "metadata": {},
   "outputs": [],
   "source": [
    "airbnb = airbnb.drop(['listing_url', 'scrape_id', 'last_scraped','neighborhood_overview', 'picture_url', 'host_url',\n",
    "       'host_name', 'host_since',\n",
    "       'host_response_time', 'host_acceptance_rate',\n",
    "       'host_is_superhost', 'host_thumbnail_url', 'host_picture_url',\n",
    "       'host_neighbourhood', 'host_listings_count',\n",
    "       'host_total_listings_count', 'host_verifications',\n",
    "       'host_has_profile_pic', 'host_identity_verified', 'bathrooms', 'beds', 'amenities',\n",
    "       'minimum_nights', 'maximum_nights', 'minimum_minimum_nights',\n",
    "       'maximum_minimum_nights', 'minimum_maximum_nights',\n",
    "       'maximum_maximum_nights', 'minimum_nights_avg_ntm',\n",
    "       'maximum_nights_avg_ntm', 'calendar_updated', 'has_availability',\n",
    "       'availability_30', 'availability_60', 'availability_90',\n",
    "       'availability_365', 'calendar_last_scraped',\n",
    "       'number_of_reviews_ltm', 'number_of_reviews_l30d', 'first_review',\n",
    "       'last_review', 'review_scores_accuracy',\n",
    "       'review_scores_cleanliness', 'review_scores_checkin',\n",
    "       'review_scores_communication', 'review_scores_location',\n",
    "       'review_scores_value', 'license', 'instant_bookable',\n",
    "       'calculated_host_listings_count',\n",
    "       'calculated_host_listings_count_entire_homes',\n",
    "       'calculated_host_listings_count_private_rooms',\n",
    "       'calculated_host_listings_count_shared_rooms', 'reviews_per_month'], axis=1)"
   ]
  },
  {
   "cell_type": "code",
   "execution_count": 5,
   "id": "921ec288",
   "metadata": {},
   "outputs": [
    {
     "name": "stdout",
     "output_type": "stream",
     "text": [
      "<_io.BufferedRandom name=62>\n",
      "zip/NYC_Nhood ACS2008_12.dbf\n",
      "zip/__MACOSX\n",
      "zip/__MACOSX/._NYC_Nhood ACS2008_12.dbf\n",
      "zip/NYC_Nhood ACS2008_12.prj\n",
      "zip/__MACOSX/._NYC_Nhood ACS2008_12.prj\n",
      "zip/NYC_Nhood ACS2008_12.shp\n",
      "zip/__MACOSX/._NYC_Nhood ACS2008_12.shp\n",
      "zip/NYC_Nhood ACS2008_12.shx\n",
      "zip/__MACOSX/._NYC_Nhood ACS2008_12.shx\n"
     ]
    }
   ],
   "source": [
    "def get_data():\n",
    "    url = \"https://geodacenter.github.io/data-and-lab/data/nycnhood_acs.zip\"\n",
    "    response = requests.get(url)\n",
    "    return url, response.content\n",
    "\n",
    "\n",
    "if __name__ == '__main__':\n",
    "    url, data = get_data()  \n",
    "\n",
    "    _tmp_file = tempfile.TemporaryFile()  \n",
    "    print(_tmp_file)\n",
    "\n",
    "    _tmp_file.write(data) \n",
    "    \n",
    "\n",
    "    zf = zipfile.ZipFile(_tmp_file, mode='r')\n",
    "    for names in zf.namelist():\n",
    "        f = zf.extract(names, './zip')  \n",
    "        print(f)\n",
    "\n",
    "    zf.close()"
   ]
  },
  {
   "cell_type": "code",
   "execution_count": 6,
   "id": "a232f829",
   "metadata": {},
   "outputs": [
    {
     "data": {
      "text/html": [
       "<div>\n",
       "<style scoped>\n",
       "    .dataframe tbody tr th:only-of-type {\n",
       "        vertical-align: middle;\n",
       "    }\n",
       "\n",
       "    .dataframe tbody tr th {\n",
       "        vertical-align: top;\n",
       "    }\n",
       "\n",
       "    .dataframe thead th {\n",
       "        text-align: right;\n",
       "    }\n",
       "</style>\n",
       "<table border=\"1\" class=\"dataframe\">\n",
       "  <thead>\n",
       "    <tr style=\"text-align: right;\">\n",
       "      <th></th>\n",
       "      <th>UEMPRATE</th>\n",
       "      <th>cartodb_id</th>\n",
       "      <th>borocode</th>\n",
       "      <th>withssi</th>\n",
       "      <th>withsocial</th>\n",
       "      <th>withpubass</th>\n",
       "      <th>struggling</th>\n",
       "      <th>profession</th>\n",
       "      <th>popunemplo</th>\n",
       "      <th>poptot</th>\n",
       "      <th>...</th>\n",
       "      <th>boroname</th>\n",
       "      <th>popdty</th>\n",
       "      <th>ntacode</th>\n",
       "      <th>medianinco</th>\n",
       "      <th>medianagem</th>\n",
       "      <th>medianagef</th>\n",
       "      <th>medianage</th>\n",
       "      <th>HHsize</th>\n",
       "      <th>gini</th>\n",
       "      <th>geometry</th>\n",
       "    </tr>\n",
       "  </thead>\n",
       "  <tbody>\n",
       "    <tr>\n",
       "      <th>0</th>\n",
       "      <td>0.095785</td>\n",
       "      <td>1</td>\n",
       "      <td>3</td>\n",
       "      <td>652</td>\n",
       "      <td>5067</td>\n",
       "      <td>277</td>\n",
       "      <td>6421</td>\n",
       "      <td>889</td>\n",
       "      <td>2225</td>\n",
       "      <td>48351</td>\n",
       "      <td>...</td>\n",
       "      <td>Brooklyn</td>\n",
       "      <td>497498.701</td>\n",
       "      <td>BK45</td>\n",
       "      <td>1520979</td>\n",
       "      <td>663.3</td>\n",
       "      <td>777.1</td>\n",
       "      <td>722.6</td>\n",
       "      <td>2.96421052631579</td>\n",
       "      <td>0.386315789473684</td>\n",
       "      <td>POLYGON ((-73.91716 40.63173, -73.91722 40.631...</td>\n",
       "    </tr>\n",
       "    <tr>\n",
       "      <th>1</th>\n",
       "      <td>0.090011</td>\n",
       "      <td>2</td>\n",
       "      <td>3</td>\n",
       "      <td>2089</td>\n",
       "      <td>7132</td>\n",
       "      <td>1016</td>\n",
       "      <td>10981</td>\n",
       "      <td>1075</td>\n",
       "      <td>2652</td>\n",
       "      <td>61584</td>\n",
       "      <td>...</td>\n",
       "      <td>Brooklyn</td>\n",
       "      <td>589296.926</td>\n",
       "      <td>BK17</td>\n",
       "      <td>1054259</td>\n",
       "      <td>791.4</td>\n",
       "      <td>868.5</td>\n",
       "      <td>827.6</td>\n",
       "      <td>2.46578947368421</td>\n",
       "      <td>0.448089473684211</td>\n",
       "      <td>POLYGON ((-73.91809 40.58657, -73.91813 40.586...</td>\n",
       "    </tr>\n",
       "    <tr>\n",
       "      <th>2</th>\n",
       "      <td>0.130393</td>\n",
       "      <td>3</td>\n",
       "      <td>3</td>\n",
       "      <td>3231</td>\n",
       "      <td>8847</td>\n",
       "      <td>2891</td>\n",
       "      <td>21235</td>\n",
       "      <td>712</td>\n",
       "      <td>6483</td>\n",
       "      <td>100130</td>\n",
       "      <td>...</td>\n",
       "      <td>Brooklyn</td>\n",
       "      <td>1506628.84</td>\n",
       "      <td>BK61</td>\n",
       "      <td>980637</td>\n",
       "      <td>863.1</td>\n",
       "      <td>983.9</td>\n",
       "      <td>923.8</td>\n",
       "      <td>2.42925925925926</td>\n",
       "      <td>0.473666666666667</td>\n",
       "      <td>POLYGON ((-73.92165 40.67887, -73.92171 40.678...</td>\n",
       "    </tr>\n",
       "    <tr>\n",
       "      <th>3</th>\n",
       "      <td>0.086633</td>\n",
       "      <td>4</td>\n",
       "      <td>3</td>\n",
       "      <td>1103</td>\n",
       "      <td>3508</td>\n",
       "      <td>553</td>\n",
       "      <td>7188</td>\n",
       "      <td>475</td>\n",
       "      <td>1709</td>\n",
       "      <td>33155</td>\n",
       "      <td>...</td>\n",
       "      <td>Brooklyn</td>\n",
       "      <td>468975.876</td>\n",
       "      <td>BK90</td>\n",
       "      <td>519058</td>\n",
       "      <td>333.6</td>\n",
       "      <td>350.1</td>\n",
       "      <td>341.3</td>\n",
       "      <td>2.189</td>\n",
       "      <td>0.44139</td>\n",
       "      <td>POLYGON ((-73.92406 40.71411, -73.92404 40.714...</td>\n",
       "    </tr>\n",
       "  </tbody>\n",
       "</table>\n",
       "<p>4 rows × 99 columns</p>\n",
       "</div>"
      ],
      "text/plain": [
       "   UEMPRATE  cartodb_id  borocode  withssi  withsocial  withpubass  \\\n",
       "0  0.095785           1         3      652        5067         277   \n",
       "1  0.090011           2         3     2089        7132        1016   \n",
       "2  0.130393           3         3     3231        8847        2891   \n",
       "3  0.086633           4         3     1103        3508         553   \n",
       "\n",
       "   struggling  profession  popunemplo  poptot  ...  boroname      popdty  \\\n",
       "0        6421         889        2225   48351  ...  Brooklyn  497498.701   \n",
       "1       10981        1075        2652   61584  ...  Brooklyn  589296.926   \n",
       "2       21235         712        6483  100130  ...  Brooklyn  1506628.84   \n",
       "3        7188         475        1709   33155  ...  Brooklyn  468975.876   \n",
       "\n",
       "   ntacode  medianinco  medianagem  medianagef  medianage            HHsize  \\\n",
       "0     BK45     1520979       663.3       777.1      722.6  2.96421052631579   \n",
       "1     BK17     1054259       791.4       868.5      827.6  2.46578947368421   \n",
       "2     BK61      980637       863.1       983.9      923.8  2.42925925925926   \n",
       "3     BK90      519058       333.6       350.1      341.3             2.189   \n",
       "\n",
       "                gini                                           geometry  \n",
       "0  0.386315789473684  POLYGON ((-73.91716 40.63173, -73.91722 40.631...  \n",
       "1  0.448089473684211  POLYGON ((-73.91809 40.58657, -73.91813 40.586...  \n",
       "2  0.473666666666667  POLYGON ((-73.92165 40.67887, -73.92171 40.678...  \n",
       "3            0.44139  POLYGON ((-73.92406 40.71411, -73.92404 40.714...  \n",
       "\n",
       "[4 rows x 99 columns]"
      ]
     },
     "execution_count": 6,
     "metadata": {},
     "output_type": "execute_result"
    }
   ],
   "source": [
    "NTA = gpd.read_file(\"zip/NYC_Nhood ACS2008_12.shp\")\n",
    "NTA.head(4)"
   ]
  },
  {
   "cell_type": "code",
   "execution_count": 7,
   "id": "043425e1",
   "metadata": {},
   "outputs": [],
   "source": [
    "cols = ['medianagef', 'medianage', 'HHsize','gini']\n",
    "NTA[cols] = NTA[cols].apply(pd.to_numeric, errors='coerce', axis=1)"
   ]
  },
  {
   "cell_type": "code",
   "execution_count": 8,
   "id": "2f7da6e2",
   "metadata": {},
   "outputs": [],
   "source": [
    "NTA = NTA.to_crs(\"EPSG:32118\")"
   ]
  },
  {
   "cell_type": "code",
   "execution_count": 9,
   "id": "ff248da6",
   "metadata": {},
   "outputs": [],
   "source": [
    "geometry = [Point(xy) for xy in zip(airbnb.longitude, airbnb.latitude)]\n",
    "Airbnb_sf = GeoDataFrame(airbnb, crs=\"EPSG:4326\", geometry=geometry)"
   ]
  },
  {
   "cell_type": "code",
   "execution_count": 10,
   "id": "2c486fb0",
   "metadata": {},
   "outputs": [],
   "source": [
    "Airbnb_sf=Airbnb_sf.to_crs(\"EPSG:32118\")"
   ]
  },
  {
   "cell_type": "code",
   "execution_count": 11,
   "id": "a549d749",
   "metadata": {},
   "outputs": [
    {
     "data": {
      "text/html": [
       "<div>\n",
       "<style scoped>\n",
       "    .dataframe tbody tr th:only-of-type {\n",
       "        vertical-align: middle;\n",
       "    }\n",
       "\n",
       "    .dataframe tbody tr th {\n",
       "        vertical-align: top;\n",
       "    }\n",
       "\n",
       "    .dataframe thead th {\n",
       "        text-align: right;\n",
       "    }\n",
       "</style>\n",
       "<table border=\"1\" class=\"dataframe\">\n",
       "  <thead>\n",
       "    <tr style=\"text-align: right;\">\n",
       "      <th></th>\n",
       "      <th>UEMPRATE</th>\n",
       "      <th>cartodb_id</th>\n",
       "      <th>borocode</th>\n",
       "      <th>withssi</th>\n",
       "      <th>withsocial</th>\n",
       "      <th>withpubass</th>\n",
       "      <th>struggling</th>\n",
       "      <th>profession</th>\n",
       "      <th>popunemplo</th>\n",
       "      <th>poptot</th>\n",
       "      <th>...</th>\n",
       "      <th>latitude</th>\n",
       "      <th>longitude</th>\n",
       "      <th>property_type</th>\n",
       "      <th>room_type</th>\n",
       "      <th>accommodates</th>\n",
       "      <th>bathrooms_text</th>\n",
       "      <th>bedrooms</th>\n",
       "      <th>price</th>\n",
       "      <th>number_of_reviews</th>\n",
       "      <th>review_scores_rating</th>\n",
       "    </tr>\n",
       "  </thead>\n",
       "  <tbody>\n",
       "    <tr>\n",
       "      <th>0</th>\n",
       "      <td>0.095785</td>\n",
       "      <td>1</td>\n",
       "      <td>3</td>\n",
       "      <td>652</td>\n",
       "      <td>5067</td>\n",
       "      <td>277</td>\n",
       "      <td>6421</td>\n",
       "      <td>889</td>\n",
       "      <td>2225</td>\n",
       "      <td>48351</td>\n",
       "      <td>...</td>\n",
       "      <td>40.60905</td>\n",
       "      <td>-73.91883</td>\n",
       "      <td>Boat</td>\n",
       "      <td>Entire home/apt</td>\n",
       "      <td>4</td>\n",
       "      <td>1 bath</td>\n",
       "      <td>2.0</td>\n",
       "      <td>$170.00</td>\n",
       "      <td>3</td>\n",
       "      <td>5.0</td>\n",
       "    </tr>\n",
       "    <tr>\n",
       "      <th>0</th>\n",
       "      <td>0.095785</td>\n",
       "      <td>1</td>\n",
       "      <td>3</td>\n",
       "      <td>652</td>\n",
       "      <td>5067</td>\n",
       "      <td>277</td>\n",
       "      <td>6421</td>\n",
       "      <td>889</td>\n",
       "      <td>2225</td>\n",
       "      <td>48351</td>\n",
       "      <td>...</td>\n",
       "      <td>40.60997</td>\n",
       "      <td>-73.92248</td>\n",
       "      <td>Entire rental unit</td>\n",
       "      <td>Entire home/apt</td>\n",
       "      <td>4</td>\n",
       "      <td>1 bath</td>\n",
       "      <td>2.0</td>\n",
       "      <td>$135.00</td>\n",
       "      <td>3</td>\n",
       "      <td>5.0</td>\n",
       "    </tr>\n",
       "    <tr>\n",
       "      <th>0</th>\n",
       "      <td>0.095785</td>\n",
       "      <td>1</td>\n",
       "      <td>3</td>\n",
       "      <td>652</td>\n",
       "      <td>5067</td>\n",
       "      <td>277</td>\n",
       "      <td>6421</td>\n",
       "      <td>889</td>\n",
       "      <td>2225</td>\n",
       "      <td>48351</td>\n",
       "      <td>...</td>\n",
       "      <td>40.61367</td>\n",
       "      <td>-73.91809</td>\n",
       "      <td>Private room in rental unit</td>\n",
       "      <td>Private room</td>\n",
       "      <td>2</td>\n",
       "      <td>1 shared bath</td>\n",
       "      <td>1.0</td>\n",
       "      <td>$60.00</td>\n",
       "      <td>20</td>\n",
       "      <td>5.0</td>\n",
       "    </tr>\n",
       "    <tr>\n",
       "      <th>0</th>\n",
       "      <td>0.095785</td>\n",
       "      <td>1</td>\n",
       "      <td>3</td>\n",
       "      <td>652</td>\n",
       "      <td>5067</td>\n",
       "      <td>277</td>\n",
       "      <td>6421</td>\n",
       "      <td>889</td>\n",
       "      <td>2225</td>\n",
       "      <td>48351</td>\n",
       "      <td>...</td>\n",
       "      <td>40.61387</td>\n",
       "      <td>-73.91961</td>\n",
       "      <td>Private room in rental unit</td>\n",
       "      <td>Private room</td>\n",
       "      <td>2</td>\n",
       "      <td>1 shared bath</td>\n",
       "      <td>1.0</td>\n",
       "      <td>$65.00</td>\n",
       "      <td>1</td>\n",
       "      <td>5.0</td>\n",
       "    </tr>\n",
       "  </tbody>\n",
       "</table>\n",
       "<p>4 rows × 120 columns</p>\n",
       "</div>"
      ],
      "text/plain": [
       "   UEMPRATE  cartodb_id  borocode  withssi  withsocial  withpubass  \\\n",
       "0  0.095785           1         3      652        5067         277   \n",
       "0  0.095785           1         3      652        5067         277   \n",
       "0  0.095785           1         3      652        5067         277   \n",
       "0  0.095785           1         3      652        5067         277   \n",
       "\n",
       "   struggling  profession  popunemplo  poptot  ...  latitude  longitude  \\\n",
       "0        6421         889        2225   48351  ...  40.60905  -73.91883   \n",
       "0        6421         889        2225   48351  ...  40.60997  -73.92248   \n",
       "0        6421         889        2225   48351  ...  40.61367  -73.91809   \n",
       "0        6421         889        2225   48351  ...  40.61387  -73.91961   \n",
       "\n",
       "                 property_type        room_type  accommodates  bathrooms_text  \\\n",
       "0                         Boat  Entire home/apt             4          1 bath   \n",
       "0           Entire rental unit  Entire home/apt             4          1 bath   \n",
       "0  Private room in rental unit     Private room             2   1 shared bath   \n",
       "0  Private room in rental unit     Private room             2   1 shared bath   \n",
       "\n",
       "   bedrooms    price  number_of_reviews  review_scores_rating  \n",
       "0       2.0  $170.00                  3                   5.0  \n",
       "0       2.0  $135.00                  3                   5.0  \n",
       "0       1.0   $60.00                 20                   5.0  \n",
       "0       1.0   $65.00                  1                   5.0  \n",
       "\n",
       "[4 rows x 120 columns]"
      ]
     },
     "execution_count": 11,
     "metadata": {},
     "output_type": "execute_result"
    }
   ],
   "source": [
    "Airbnb_NTA=gpd.sjoin(NTA,Airbnb_sf)\n",
    "Airbnb_NTA.head(4)"
   ]
  },
  {
   "cell_type": "code",
   "execution_count": 12,
   "id": "b05cc292",
   "metadata": {},
   "outputs": [],
   "source": [
    "Airbnb_NTA['price'] = Airbnb_NTA['price'].replace({'\\$': '', ',': ''}, regex=True).astype(float)"
   ]
  },
  {
   "cell_type": "code",
   "execution_count": 13,
   "id": "6d0170d6",
   "metadata": {},
   "outputs": [],
   "source": [
    "cols = ['review_scores_rating', 'price']\n",
    "\n",
    "Q1 = Airbnb_NTA[cols].quantile(0.25)\n",
    "Q3 = Airbnb_NTA[cols].quantile(0.75)\n",
    "IQR = Q3 - Q1"
   ]
  },
  {
   "cell_type": "code",
   "execution_count": 15,
   "id": "0df4a9ab",
   "metadata": {},
   "outputs": [],
   "source": [
    "df = Airbnb_NTA[~((Airbnb_NTA[cols] < (Q1 - 1.5 * IQR)) |(Airbnb_NTA[cols] > (Q3 + 1.5 * IQR))).any(axis=1)]"
   ]
  },
  {
   "cell_type": "code",
   "execution_count": 16,
   "id": "6e2c2f3d",
   "metadata": {},
   "outputs": [
    {
     "data": {
      "image/png": "[encoded data removed]",
      "text/plain": [
       "<Figure size 432x288 with 1 Axes>"
      ]
     },
     "metadata": {
      "needs_background": "light"
     },
     "output_type": "display_data"
    }
   ],
   "source": [
    "x1 = Airbnb_NTA['review_scores_rating'].plot(kind='box')"
   ]
  },
  {
   "cell_type": "code",
   "execution_count": 17,
   "id": "b0e7d19d",
   "metadata": {},
   "outputs": [
    {
     "data": {
      "image/png": "[encoded data removed]",
      "text/plain": [
       "<Figure size 432x288 with 1 Axes>"
      ]
     },
     "metadata": {
      "needs_background": "light"
     },
     "output_type": "display_data"
    }
   ],
   "source": [
    "x2 = Airbnb_NTA['price'].plot(kind='box')"
   ]
  },
  {
   "cell_type": "code",
   "execution_count": 18,
   "id": "94dde9d9",
   "metadata": {},
   "outputs": [
    {
     "data": {
      "image/png": "[encoded data removed]",
      "text/plain": [
       "<Figure size 432x288 with 1 Axes>"
      ]
     },
     "metadata": {
      "needs_background": "light"
     },
     "output_type": "display_data"
    }
   ],
   "source": [
    "x3 = df['review_scores_rating'].plot(kind='box')"
   ]
  },
  {
   "cell_type": "code",
   "execution_count": 19,
   "id": "eb926331",
   "metadata": {},
   "outputs": [
    {
     "data": {
      "image/png": "[encoded data removed]",
      "text/plain": [
       "<Figure size 432x288 with 1 Axes>"
      ]
     },
     "metadata": {
      "needs_background": "light"
     },
     "output_type": "display_data"
    }
   ],
   "source": [
    "x4 = df['price'].plot(kind='box')"
   ]
  }
 ],
 "metadata": {
  "kernelspec": {
   "display_name": "Python 3",
   "language": "python",
   "name": "python3"
  },
  "language_info": {
   "codemirror_mode": {
    "name": "ipython",
    "version": 3
   },
   "file_extension": ".py",
   "mimetype": "text/x-python",
   "name": "python",
   "nbconvert_exporter": "python",
   "pygments_lexer": "ipython3",
   "version": "3.8.8"
  }
 },
 "nbformat": 4,
 "nbformat_minor": 5
}
